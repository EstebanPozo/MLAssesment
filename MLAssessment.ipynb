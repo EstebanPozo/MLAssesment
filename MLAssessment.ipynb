{
 "cells": [
  {
   "cell_type": "code",
   "execution_count": null,
   "id": "467ab151",
   "metadata": {},
   "outputs": [],
   "source": [
    "pip install pandas\n",
    "pip isntall tensorflow\n",
    "pip install numpy"
   ]
  },
  {
   "cell_type": "markdown",
   "id": "ae42341c",
   "metadata": {},
   "source": [
    "# Machine  Learning Assessment"
   ]
  },
  {
   "cell_type": "markdown",
   "id": "560fc467",
   "metadata": {},
   "source": [
    "Input:\n",
    "\n",
    "•   The input of your model should take a vector with at least the date/time\n",
    "\n",
    "Output:\n",
    "\n",
    "•   The output should contain the call volume (count) of 911 calls predicted for this time period.\n",
    "\n",
    "•\tPlease  provide a backtesting plot comparing the actual (measured)  call volume vs. predicted call volume for a month and a week.\n",
    "\n",
    "•   Please  think about measures to judge the quality and certainty of predictions  and provide\n",
    "them as well.\n"
   ]
  },
  {
   "cell_type": "markdown",
   "id": "bcf7581d",
   "metadata": {},
   "source": [
    "# NOTES"
   ]
  },
  {
   "cell_type": "markdown",
   "id": "fe7db1f6",
   "metadata": {},
   "source": [
    "Data is presented in USA format MM-DD-YYYY, it will be parsed to fit European time notation YYYY- MM-DD.\n",
    "Data has been simplified and adjusted to a vector input."
   ]
  },
  {
   "cell_type": "code",
   "execution_count": 97,
   "id": "14172c17",
   "metadata": {},
   "outputs": [],
   "source": [
    "import tensorflow as tf\n",
    "import os\n",
    "import pandas as pd\n",
    "import numpy as np\n",
    "import logging"
   ]
  },
  {
   "cell_type": "markdown",
   "id": "2eae3781",
   "metadata": {},
   "source": [
    "# DATA INPUT (\"getting data in\"  as requested in Rule 2.)\n",
    "### Vector with at least the date/time"
   ]
  },
  {
   "cell_type": "markdown",
   "id": "b2397a01",
   "metadata": {},
   "source": [
    "The Dataset of 911 calls:  https://data.seattle.gov/Public- Safety/Seattle-Real-Time-Fire-911-Calls/kzjm-xkqj is sent to DataPrep and edited using BigQuery as suggested, in order to obtain vector with dates only."
   ]
  },
  {
   "cell_type": "code",
   "execution_count": 168,
   "id": "b4c51647",
   "metadata": {},
   "outputs": [
    {
     "data": {
      "text/plain": [
       "'Data loaded'"
      ]
     },
     "execution_count": 168,
     "metadata": {},
     "output_type": "execute_result"
    }
   ],
   "source": [
    "#Read data from preprocessed db\n",
    "def a(data):\n",
    "    data = pd.read_csv(r\"C:\\Users\\Dell\\Niologic\\Seattle_Real_Time_Fire_911_Calls-v.csv\")\n",
    "    return 'Data loaded'\n",
    "a(pd.read_csv(r\"C:\\Users\\Dell\\Niologic\\Seattle_Real_Time_Fire_911_Calls-v.csv\"))\n"
   ]
  },
  {
   "cell_type": "code",
   "execution_count": 99,
   "id": "52e6ff02",
   "metadata": {},
   "outputs": [
    {
     "data": {
      "text/html": [
       "<div>\n",
       "<style scoped>\n",
       "    .dataframe tbody tr th:only-of-type {\n",
       "        vertical-align: middle;\n",
       "    }\n",
       "\n",
       "    .dataframe tbody tr th {\n",
       "        vertical-align: top;\n",
       "    }\n",
       "\n",
       "    .dataframe thead th {\n",
       "        text-align: right;\n",
       "    }\n",
       "</style>\n",
       "<table border=\"1\" class=\"dataframe\">\n",
       "  <thead>\n",
       "    <tr style=\"text-align: right;\">\n",
       "      <th></th>\n",
       "      <th>Datetime</th>\n",
       "    </tr>\n",
       "  </thead>\n",
       "  <tbody>\n",
       "    <tr>\n",
       "      <th>1</th>\n",
       "      <td>2019-05-22</td>\n",
       "    </tr>\n",
       "    <tr>\n",
       "      <th>1001</th>\n",
       "      <td>2005-01-28</td>\n",
       "    </tr>\n",
       "    <tr>\n",
       "      <th>2001</th>\n",
       "      <td>2003-11-09</td>\n",
       "    </tr>\n",
       "    <tr>\n",
       "      <th>3001</th>\n",
       "      <td>2003-11-14</td>\n",
       "    </tr>\n",
       "    <tr>\n",
       "      <th>4001</th>\n",
       "      <td>2003-11-19</td>\n",
       "    </tr>\n",
       "    <tr>\n",
       "      <th>...</th>\n",
       "      <td>...</td>\n",
       "    </tr>\n",
       "    <tr>\n",
       "      <th>1019001</th>\n",
       "      <td>2016-03-21</td>\n",
       "    </tr>\n",
       "    <tr>\n",
       "      <th>1020001</th>\n",
       "      <td>2016-03-24</td>\n",
       "    </tr>\n",
       "    <tr>\n",
       "      <th>1021001</th>\n",
       "      <td>2016-03-28</td>\n",
       "    </tr>\n",
       "    <tr>\n",
       "      <th>1022001</th>\n",
       "      <td>2016-04-01</td>\n",
       "    </tr>\n",
       "    <tr>\n",
       "      <th>1023001</th>\n",
       "      <td>2016-04-04</td>\n",
       "    </tr>\n",
       "  </tbody>\n",
       "</table>\n",
       "<p>1024 rows × 1 columns</p>\n",
       "</div>"
      ],
      "text/plain": [
       "           Datetime\n",
       "1        2019-05-22\n",
       "1001     2005-01-28\n",
       "2001     2003-11-09\n",
       "3001     2003-11-14\n",
       "4001     2003-11-19\n",
       "...             ...\n",
       "1019001  2016-03-21\n",
       "1020001  2016-03-24\n",
       "1021001  2016-03-28\n",
       "1022001  2016-04-01\n",
       "1023001  2016-04-04\n",
       "\n",
       "[1024 rows x 1 columns]"
      ]
     },
     "execution_count": 99,
     "metadata": {},
     "output_type": "execute_result"
    }
   ],
   "source": [
    "# Shows how the db looks like from the beginning in steps of 1000\n",
    "df = data[1::1000]\n",
    "df"
   ]
  },
  {
   "cell_type": "markdown",
   "id": "6be1fdc6",
   "metadata": {},
   "source": [
    "# Processing data (scoring) as requested in Rule 2. and 3)"
   ]
  },
  {
   "cell_type": "code",
   "execution_count": 100,
   "id": "39a0195d",
   "metadata": {},
   "outputs": [
    {
     "data": {
      "text/plain": [
       "Datetime\n",
       "2003-11-07    188\n",
       "2003-11-08    246\n",
       "2003-11-09    234\n",
       "2003-11-10    225\n",
       "2003-11-11    168\n",
       "             ... \n",
       "2021-10-24      1\n",
       "2021-11-04      1\n",
       "2021-12-10      1\n",
       "2022-01-01      2\n",
       "2022-01-22      1\n",
       "Length: 4640, dtype: int64"
      ]
     },
     "execution_count": 100,
     "metadata": {},
     "output_type": "execute_result"
    }
   ],
   "source": [
    "#counts the number of calls per day from database, db is ordered\n",
    "dgroup=data.groupby('Datetime').size()\n",
    "dgroup"
   ]
  },
  {
   "cell_type": "code",
   "execution_count": 101,
   "id": "21e4a572",
   "metadata": {},
   "outputs": [
    {
     "data": {
      "text/plain": [
       "<AxesSubplot:xlabel='Datetime'>"
      ]
     },
     "execution_count": 101,
     "metadata": {},
     "output_type": "execute_result"
    },
    {
     "data": {
      "image/png": "[encoded data removed]",
      "text/plain": [
       "<Figure size 1080x360 with 1 Axes>"
      ]
     },
     "metadata": {
      "needs_background": "light"
     },
     "output_type": "display_data"
    }
   ],
   "source": [
    "dgroup.plot(figsize=(15,5), kind='line',x=0, y=1)"
   ]
  },
  {
   "cell_type": "code",
   "execution_count": 102,
   "id": "2b9e4f5d",
   "metadata": {},
   "outputs": [],
   "source": [
    "\n",
    "def df2c(df, window_size=5):\n",
    "    df2np=df.to_numpy()\n",
    "    X=[]\n",
    "    y=[]\n",
    "    for i in range(len(df2np)-window_size):\n",
    "        row=[[a] for a in df2np[i:i+window_size]]\n",
    "        X.append(row)\n",
    "        label=df2np[i+window_size]\n",
    "        y.append(label)\n",
    "    return np.array(X), np.array(y)"
   ]
  },
  {
   "cell_type": "code",
   "execution_count": 103,
   "id": "ca283477",
   "metadata": {},
   "outputs": [],
   "source": [
    "import convert2np\n",
    "import numpy as np"
   ]
  },
  {
   "cell_type": "code",
   "execution_count": 110,
   "id": "9a590597",
   "metadata": {},
   "outputs": [
    {
     "data": {
      "text/plain": [
       "((4635, 5, 1), (4635,))"
      ]
     },
     "execution_count": 110,
     "metadata": {},
     "output_type": "execute_result"
    }
   ],
   "source": [
    "WINDOW_SIZE = 5\n",
    "X1, y1 = df2c(dgroup, WINDOW_SIZE)\n",
    "X1.shape, y1.shape\n"
   ]
  },
  {
   "cell_type": "markdown",
   "id": "cf8a8e9a",
   "metadata": {},
   "source": [
    "# Training as requested in rule 3"
   ]
  },
  {
   "cell_type": "code",
   "execution_count": 116,
   "id": "d09cd0f6",
   "metadata": {},
   "outputs": [
    {
     "data": {
      "text/plain": [
       "((3244, 5, 1), (3244,), (927, 5, 1), (927,), (464, 5, 1), (464,))"
      ]
     },
     "execution_count": 116,
     "metadata": {},
     "output_type": "execute_result"
    }
   ],
   "source": [
    "#%%writefile train.py\n",
    "#splits the set with 70% for training, 20 % for validation and 10% for testing\n",
    "train_range=round(X1.shape[0]*0.7)\n",
    "val_range=round(X1.shape[0]*0.2)+train_range\n",
    "test_range=round(X1.shape[0]*0.1)+val_range\n",
    "\n",
    "\n",
    "X_train1, y_train1 = X1[:train_range], y1[:train_range]\n",
    "X_val1, y_val1 = X1[train_range:val_range], y1[train_range:val_range]\n",
    "X_test1, y_test1 = X1[val_range:test_range], y1[val_range:test_range]\n",
    "X_train1.shape, y_train1.shape, X_val1.shape, y_val1.shape, X_test1.shape, y_test1.shape"
   ]
  },
  {
   "cell_type": "markdown",
   "id": "caab9f7c",
   "metadata": {},
   "source": [
    "# Model "
   ]
  },
  {
   "cell_type": "code",
   "execution_count": 131,
   "id": "e50c8bda",
   "metadata": {},
   "outputs": [
    {
     "name": "stdout",
     "output_type": "stream",
     "text": [
      "Model: \"sequential_6\"\n",
      "_________________________________________________________________\n",
      "Layer (type)                 Output Shape              Param #   \n",
      "=================================================================\n",
      "lstm_6 (LSTM)                (None, 32)                4352      \n",
      "_________________________________________________________________\n",
      "dense_12 (Dense)             (None, 8)                 264       \n",
      "_________________________________________________________________\n",
      "dense_13 (Dense)             (None, 1)                 9         \n",
      "=================================================================\n",
      "Total params: 4,625\n",
      "Trainable params: 4,625\n",
      "Non-trainable params: 0\n",
      "_________________________________________________________________\n"
     ]
    }
   ],
   "source": [
    "#%%writefile modellstm.py\n",
    "\n",
    "from tensorflow.keras.models import Sequential\n",
    "from tensorflow.keras.layers import *\n",
    "from tensorflow.keras.callbacks import ModelCheckpoint\n",
    "from tensorflow.keras.losses import MeanSquaredError\n",
    "from tensorflow.keras.metrics import RootMeanSquaredError\n",
    "from tensorflow.keras.optimizers import Adam\n",
    "\n",
    "model1 = Sequential()\n",
    "model1.add(InputLayer((5, 1)))\n",
    "model1.add(LSTM(32))\n",
    "model1.add(Dense(8, 'relu'))\n",
    "model1.add(Dense(1, 'linear'))\n",
    "\n",
    "model1.summary()"
   ]
  },
  {
   "cell_type": "code",
   "execution_count": 145,
   "id": "1bb3178e",
   "metadata": {},
   "outputs": [],
   "source": [
    "cp1 = ModelCheckpoint('model1/', save_best_only=True)\n",
    "model1.compile(loss=MeanSquaredError(), optimizer=Adam(learning_rate=0.1), metrics=[RootMeanSquaredError()])"
   ]
  },
  {
   "cell_type": "code",
   "execution_count": 146,
   "id": "5971fd93",
   "metadata": {},
   "outputs": [
    {
     "name": "stdout",
     "output_type": "stream",
     "text": [
      "Epoch 1/10\n",
      "102/102 [==============================] - 3s 8ms/step - loss: 16802.3499 - root_mean_squared_error: 122.9467 - val_loss: 1577.0304 - val_root_mean_squared_error: 39.7118\n"
     ]
    },
    {
     "name": "stderr",
     "output_type": "stream",
     "text": [
      "WARNING:absl:Found untraced functions such as lstm_cell_12_layer_call_and_return_conditional_losses, lstm_cell_12_layer_call_fn, lstm_cell_12_layer_call_fn, lstm_cell_12_layer_call_and_return_conditional_losses, lstm_cell_12_layer_call_and_return_conditional_losses while saving (showing 5 of 5). These functions will not be directly callable after loading.\n",
      "WARNING:absl:Found untraced functions such as lstm_cell_12_layer_call_and_return_conditional_losses, lstm_cell_12_layer_call_fn, lstm_cell_12_layer_call_fn, lstm_cell_12_layer_call_and_return_conditional_losses, lstm_cell_12_layer_call_and_return_conditional_losses while saving (showing 5 of 5). These functions will not be directly callable after loading.\n"
     ]
    },
    {
     "name": "stdout",
     "output_type": "stream",
     "text": [
      "INFO:tensorflow:Assets written to: model1\\assets\n"
     ]
    },
    {
     "name": "stderr",
     "output_type": "stream",
     "text": [
      "INFO:tensorflow:Assets written to: model1\\assets\n"
     ]
    },
    {
     "name": "stdout",
     "output_type": "stream",
     "text": [
      "Epoch 2/10\n",
      "102/102 [==============================] - 0s 3ms/step - loss: 789.4789 - root_mean_squared_error: 27.7425 - val_loss: 1364.7145 - val_root_mean_squared_error: 36.9420\n"
     ]
    },
    {
     "name": "stderr",
     "output_type": "stream",
     "text": [
      "WARNING:absl:Found untraced functions such as lstm_cell_12_layer_call_and_return_conditional_losses, lstm_cell_12_layer_call_fn, lstm_cell_12_layer_call_fn, lstm_cell_12_layer_call_and_return_conditional_losses, lstm_cell_12_layer_call_and_return_conditional_losses while saving (showing 5 of 5). These functions will not be directly callable after loading.\n",
      "WARNING:absl:Found untraced functions such as lstm_cell_12_layer_call_and_return_conditional_losses, lstm_cell_12_layer_call_fn, lstm_cell_12_layer_call_fn, lstm_cell_12_layer_call_and_return_conditional_losses, lstm_cell_12_layer_call_and_return_conditional_losses while saving (showing 5 of 5). These functions will not be directly callable after loading.\n"
     ]
    },
    {
     "name": "stdout",
     "output_type": "stream",
     "text": [
      "INFO:tensorflow:Assets written to: model1\\assets\n"
     ]
    },
    {
     "name": "stderr",
     "output_type": "stream",
     "text": [
      "INFO:tensorflow:Assets written to: model1\\assets\n"
     ]
    },
    {
     "name": "stdout",
     "output_type": "stream",
     "text": [
      "Epoch 3/10\n",
      "102/102 [==============================] - 0s 3ms/step - loss: 698.5623 - root_mean_squared_error: 26.4162 - val_loss: 1500.7782 - val_root_mean_squared_error: 38.7399\n",
      "Epoch 4/10\n",
      "102/102 [==============================] - 0s 3ms/step - loss: 631.5347 - root_mean_squared_error: 25.0998 - val_loss: 1618.8853 - val_root_mean_squared_error: 40.2354\n",
      "Epoch 5/10\n",
      "102/102 [==============================] - 0s 3ms/step - loss: 666.3534 - root_mean_squared_error: 25.7920 - val_loss: 1269.5415 - val_root_mean_squared_error: 35.6306\n"
     ]
    },
    {
     "name": "stderr",
     "output_type": "stream",
     "text": [
      "WARNING:absl:Found untraced functions such as lstm_cell_12_layer_call_and_return_conditional_losses, lstm_cell_12_layer_call_fn, lstm_cell_12_layer_call_fn, lstm_cell_12_layer_call_and_return_conditional_losses, lstm_cell_12_layer_call_and_return_conditional_losses while saving (showing 5 of 5). These functions will not be directly callable after loading.\n",
      "WARNING:absl:Found untraced functions such as lstm_cell_12_layer_call_and_return_conditional_losses, lstm_cell_12_layer_call_fn, lstm_cell_12_layer_call_fn, lstm_cell_12_layer_call_and_return_conditional_losses, lstm_cell_12_layer_call_and_return_conditional_losses while saving (showing 5 of 5). These functions will not be directly callable after loading.\n"
     ]
    },
    {
     "name": "stdout",
     "output_type": "stream",
     "text": [
      "INFO:tensorflow:Assets written to: model1\\assets\n"
     ]
    },
    {
     "name": "stderr",
     "output_type": "stream",
     "text": [
      "INFO:tensorflow:Assets written to: model1\\assets\n"
     ]
    },
    {
     "name": "stdout",
     "output_type": "stream",
     "text": [
      "Epoch 6/10\n",
      "102/102 [==============================] - 0s 4ms/step - loss: 756.3674 - root_mean_squared_error: 27.4546 - val_loss: 1788.4413 - val_root_mean_squared_error: 42.2900\n",
      "Epoch 7/10\n",
      "102/102 [==============================] - 0s 3ms/step - loss: 686.3803 - root_mean_squared_error: 26.1885 - val_loss: 1802.4935 - val_root_mean_squared_error: 42.4558\n",
      "Epoch 8/10\n",
      "102/102 [==============================] - 0s 3ms/step - loss: 627.6707 - root_mean_squared_error: 25.0344 - val_loss: 1946.9321 - val_root_mean_squared_error: 44.1241\n",
      "Epoch 9/10\n",
      "102/102 [==============================] - 0s 3ms/step - loss: 721.3006 - root_mean_squared_error: 26.8459 - val_loss: 1634.5222 - val_root_mean_squared_error: 40.4292\n",
      "Epoch 10/10\n",
      "102/102 [==============================] - 0s 3ms/step - loss: 609.6012 - root_mean_squared_error: 24.6649 - val_loss: 1970.0179 - val_root_mean_squared_error: 44.3849\n"
     ]
    },
    {
     "data": {
      "text/plain": [
       "<tensorflow.python.keras.callbacks.History at 0x167b75be7c0>"
      ]
     },
     "execution_count": 146,
     "metadata": {},
     "output_type": "execute_result"
    }
   ],
   "source": [
    "model1.fit(X_train1, y_train1, validation_data=(X_val1, y_val1), epochs=10, callbacks=[cp1])"
   ]
  },
  {
   "cell_type": "code",
   "execution_count": 147,
   "id": "6186baae",
   "metadata": {},
   "outputs": [],
   "source": [
    "from tensorflow.keras.models import load_model\n",
    "model1 = load_model('model1/')"
   ]
  },
  {
   "cell_type": "code",
   "execution_count": 148,
   "id": "f1d518be",
   "metadata": {},
   "outputs": [
    {
     "data": {
      "text/html": [
       "<div>\n",
       "<style scoped>\n",
       "    .dataframe tbody tr th:only-of-type {\n",
       "        vertical-align: middle;\n",
       "    }\n",
       "\n",
       "    .dataframe tbody tr th {\n",
       "        vertical-align: top;\n",
       "    }\n",
       "\n",
       "    .dataframe thead th {\n",
       "        text-align: right;\n",
       "    }\n",
       "</style>\n",
       "<table border=\"1\" class=\"dataframe\">\n",
       "  <thead>\n",
       "    <tr style=\"text-align: right;\">\n",
       "      <th></th>\n",
       "      <th>Prediction</th>\n",
       "      <th>Data</th>\n",
       "    </tr>\n",
       "  </thead>\n",
       "  <tbody>\n",
       "    <tr>\n",
       "      <th>0</th>\n",
       "      <td>220.093719</td>\n",
       "      <td>212</td>\n",
       "    </tr>\n",
       "    <tr>\n",
       "      <th>1</th>\n",
       "      <td>220.093719</td>\n",
       "      <td>199</td>\n",
       "    </tr>\n",
       "    <tr>\n",
       "      <th>2</th>\n",
       "      <td>220.093719</td>\n",
       "      <td>204</td>\n",
       "    </tr>\n",
       "    <tr>\n",
       "      <th>3</th>\n",
       "      <td>220.093719</td>\n",
       "      <td>190</td>\n",
       "    </tr>\n",
       "    <tr>\n",
       "      <th>4</th>\n",
       "      <td>220.093719</td>\n",
       "      <td>187</td>\n",
       "    </tr>\n",
       "    <tr>\n",
       "      <th>...</th>\n",
       "      <td>...</td>\n",
       "      <td>...</td>\n",
       "    </tr>\n",
       "    <tr>\n",
       "      <th>3239</th>\n",
       "      <td>220.093719</td>\n",
       "      <td>251</td>\n",
       "    </tr>\n",
       "    <tr>\n",
       "      <th>3240</th>\n",
       "      <td>220.093719</td>\n",
       "      <td>229</td>\n",
       "    </tr>\n",
       "    <tr>\n",
       "      <th>3241</th>\n",
       "      <td>220.093719</td>\n",
       "      <td>234</td>\n",
       "    </tr>\n",
       "    <tr>\n",
       "      <th>3242</th>\n",
       "      <td>220.093719</td>\n",
       "      <td>241</td>\n",
       "    </tr>\n",
       "    <tr>\n",
       "      <th>3243</th>\n",
       "      <td>220.093719</td>\n",
       "      <td>218</td>\n",
       "    </tr>\n",
       "  </tbody>\n",
       "</table>\n",
       "<p>3244 rows × 2 columns</p>\n",
       "</div>"
      ],
      "text/plain": [
       "      Prediction  Data\n",
       "0     220.093719   212\n",
       "1     220.093719   199\n",
       "2     220.093719   204\n",
       "3     220.093719   190\n",
       "4     220.093719   187\n",
       "...          ...   ...\n",
       "3239  220.093719   251\n",
       "3240  220.093719   229\n",
       "3241  220.093719   234\n",
       "3242  220.093719   241\n",
       "3243  220.093719   218\n",
       "\n",
       "[3244 rows x 2 columns]"
      ]
     },
     "execution_count": 148,
     "metadata": {},
     "output_type": "execute_result"
    }
   ],
   "source": [
    "train_predictions = model1.predict(X_train1).flatten()\n",
    "train_results = pd.DataFrame(data={'Prediction':train_predictions, 'Data':y_train1})\n",
    "train_results"
   ]
  },
  {
   "cell_type": "markdown",
   "id": "ed9c6c80",
   "metadata": {},
   "source": [
    "# Output:\n",
    "\n",
    "•   The output should contain the call volume (count) of 911 calls predicted for this time period.\n",
    "\n",
    "•\tPlease  provide a backtesting plot comparing the actual (measured)  call volume vs. predicted call volume for a month and a week.\n",
    "\n",
    "•   Please  think about measures to judge the quality and certainty of predictions  and provide\n",
    "them as well.\n"
   ]
  },
  {
   "cell_type": "markdown",
   "id": "2df294b5",
   "metadata": {},
   "source": [
    "# Predicted calls"
   ]
  },
  {
   "cell_type": "code",
   "execution_count": 152,
   "id": "e5a6973c",
   "metadata": {},
   "outputs": [
    {
     "data": {
      "text/html": [
       "<div>\n",
       "<style scoped>\n",
       "    .dataframe tbody tr th:only-of-type {\n",
       "        vertical-align: middle;\n",
       "    }\n",
       "\n",
       "    .dataframe tbody tr th {\n",
       "        vertical-align: top;\n",
       "    }\n",
       "\n",
       "    .dataframe thead th {\n",
       "        text-align: right;\n",
       "    }\n",
       "</style>\n",
       "<table border=\"1\" class=\"dataframe\">\n",
       "  <thead>\n",
       "    <tr style=\"text-align: right;\">\n",
       "      <th></th>\n",
       "      <th>Prediction</th>\n",
       "      <th>Data</th>\n",
       "    </tr>\n",
       "  </thead>\n",
       "  <tbody>\n",
       "    <tr>\n",
       "      <th>0</th>\n",
       "      <td>220.093719</td>\n",
       "      <td>261</td>\n",
       "    </tr>\n",
       "    <tr>\n",
       "      <th>1</th>\n",
       "      <td>220.093719</td>\n",
       "      <td>219</td>\n",
       "    </tr>\n",
       "    <tr>\n",
       "      <th>2</th>\n",
       "      <td>220.093719</td>\n",
       "      <td>238</td>\n",
       "    </tr>\n",
       "    <tr>\n",
       "      <th>3</th>\n",
       "      <td>220.093719</td>\n",
       "      <td>237</td>\n",
       "    </tr>\n",
       "    <tr>\n",
       "      <th>4</th>\n",
       "      <td>220.093719</td>\n",
       "      <td>220</td>\n",
       "    </tr>\n",
       "    <tr>\n",
       "      <th>...</th>\n",
       "      <td>...</td>\n",
       "      <td>...</td>\n",
       "    </tr>\n",
       "    <tr>\n",
       "      <th>922</th>\n",
       "      <td>220.093719</td>\n",
       "      <td>277</td>\n",
       "    </tr>\n",
       "    <tr>\n",
       "      <th>923</th>\n",
       "      <td>220.093719</td>\n",
       "      <td>261</td>\n",
       "    </tr>\n",
       "    <tr>\n",
       "      <th>924</th>\n",
       "      <td>220.093719</td>\n",
       "      <td>244</td>\n",
       "    </tr>\n",
       "    <tr>\n",
       "      <th>925</th>\n",
       "      <td>220.093719</td>\n",
       "      <td>225</td>\n",
       "    </tr>\n",
       "    <tr>\n",
       "      <th>926</th>\n",
       "      <td>220.093719</td>\n",
       "      <td>226</td>\n",
       "    </tr>\n",
       "  </tbody>\n",
       "</table>\n",
       "<p>927 rows × 2 columns</p>\n",
       "</div>"
      ],
      "text/plain": [
       "     Prediction  Data\n",
       "0    220.093719   261\n",
       "1    220.093719   219\n",
       "2    220.093719   238\n",
       "3    220.093719   237\n",
       "4    220.093719   220\n",
       "..          ...   ...\n",
       "922  220.093719   277\n",
       "923  220.093719   261\n",
       "924  220.093719   244\n",
       "925  220.093719   225\n",
       "926  220.093719   226\n",
       "\n",
       "[927 rows x 2 columns]"
      ]
     },
     "execution_count": 152,
     "metadata": {},
     "output_type": "execute_result"
    }
   ],
   "source": [
    "val_predictions = model1.predict(X_val1).flatten()\n",
    "val_results = pd.DataFrame(data={'Prediction':val_predictions, 'Data':y_val1})\n",
    "val_results"
   ]
  },
  {
   "cell_type": "markdown",
   "id": "8f157602",
   "metadata": {},
   "source": [
    "# Backtesting plot "
   ]
  },
  {
   "cell_type": "markdown",
   "id": "a360b85c",
   "metadata": {},
   "source": [
    "#### Call volume vs. predicted call volume for a month"
   ]
  },
  {
   "cell_type": "code",
   "execution_count": 158,
   "id": "38d2590d",
   "metadata": {},
   "outputs": [
    {
     "data": {
      "text/plain": [
       "[<matplotlib.lines.Line2D at 0x167bbd96220>]"
      ]
     },
     "execution_count": 158,
     "metadata": {},
     "output_type": "execute_result"
    },
    {
     "data": {
      "image/png": "[encoded data removed]",
      "text/plain": [
       "<Figure size 432x288 with 1 Axes>"
      ]
     },
     "metadata": {
      "needs_background": "light"
     },
     "output_type": "display_data"
    }
   ],
   "source": [
    "import matplotlib.pyplot as plt\n",
    "plt.plot(train_results['Prediction'][50:80])\n",
    "plt.plot(train_results['Data'][50:80])"
   ]
  },
  {
   "cell_type": "code",
   "execution_count": 159,
   "id": "df13559e",
   "metadata": {},
   "outputs": [
    {
     "data": {
      "text/html": [
       "<div>\n",
       "<style scoped>\n",
       "    .dataframe tbody tr th:only-of-type {\n",
       "        vertical-align: middle;\n",
       "    }\n",
       "\n",
       "    .dataframe tbody tr th {\n",
       "        vertical-align: top;\n",
       "    }\n",
       "\n",
       "    .dataframe thead th {\n",
       "        text-align: right;\n",
       "    }\n",
       "</style>\n",
       "<table border=\"1\" class=\"dataframe\">\n",
       "  <thead>\n",
       "    <tr style=\"text-align: right;\">\n",
       "      <th></th>\n",
       "      <th>Prediction</th>\n",
       "      <th>Data</th>\n",
       "    </tr>\n",
       "  </thead>\n",
       "  <tbody>\n",
       "    <tr>\n",
       "      <th>0</th>\n",
       "      <td>220.093719</td>\n",
       "      <td>261</td>\n",
       "    </tr>\n",
       "    <tr>\n",
       "      <th>1</th>\n",
       "      <td>220.093719</td>\n",
       "      <td>219</td>\n",
       "    </tr>\n",
       "    <tr>\n",
       "      <th>2</th>\n",
       "      <td>220.093719</td>\n",
       "      <td>238</td>\n",
       "    </tr>\n",
       "    <tr>\n",
       "      <th>3</th>\n",
       "      <td>220.093719</td>\n",
       "      <td>237</td>\n",
       "    </tr>\n",
       "    <tr>\n",
       "      <th>4</th>\n",
       "      <td>220.093719</td>\n",
       "      <td>220</td>\n",
       "    </tr>\n",
       "    <tr>\n",
       "      <th>...</th>\n",
       "      <td>...</td>\n",
       "      <td>...</td>\n",
       "    </tr>\n",
       "    <tr>\n",
       "      <th>922</th>\n",
       "      <td>220.093719</td>\n",
       "      <td>277</td>\n",
       "    </tr>\n",
       "    <tr>\n",
       "      <th>923</th>\n",
       "      <td>220.093719</td>\n",
       "      <td>261</td>\n",
       "    </tr>\n",
       "    <tr>\n",
       "      <th>924</th>\n",
       "      <td>220.093719</td>\n",
       "      <td>244</td>\n",
       "    </tr>\n",
       "    <tr>\n",
       "      <th>925</th>\n",
       "      <td>220.093719</td>\n",
       "      <td>225</td>\n",
       "    </tr>\n",
       "    <tr>\n",
       "      <th>926</th>\n",
       "      <td>220.093719</td>\n",
       "      <td>226</td>\n",
       "    </tr>\n",
       "  </tbody>\n",
       "</table>\n",
       "<p>927 rows × 2 columns</p>\n",
       "</div>"
      ],
      "text/plain": [
       "     Prediction  Data\n",
       "0    220.093719   261\n",
       "1    220.093719   219\n",
       "2    220.093719   238\n",
       "3    220.093719   237\n",
       "4    220.093719   220\n",
       "..          ...   ...\n",
       "922  220.093719   277\n",
       "923  220.093719   261\n",
       "924  220.093719   244\n",
       "925  220.093719   225\n",
       "926  220.093719   226\n",
       "\n",
       "[927 rows x 2 columns]"
      ]
     },
     "execution_count": 159,
     "metadata": {},
     "output_type": "execute_result"
    }
   ],
   "source": [
    "val_predictions = model1.predict(X_val1).flatten()\n",
    "val_results = pd.DataFrame(data={'Prediction':val_predictions, 'Data':y_val1})\n",
    "val_results"
   ]
  },
  {
   "cell_type": "markdown",
   "id": "a23733b8",
   "metadata": {},
   "source": [
    "#### Call volume vs. predicted call volume for a week."
   ]
  },
  {
   "cell_type": "code",
   "execution_count": 157,
   "id": "b8f94088",
   "metadata": {},
   "outputs": [
    {
     "data": {
      "text/plain": [
       "[<matplotlib.lines.Line2D at 0x167a4ecf3a0>]"
      ]
     },
     "execution_count": 157,
     "metadata": {},
     "output_type": "execute_result"
    },
    {
     "data": {
      "image/png": "[encoded data removed]",
      "text/plain": [
       "<Figure size 432x288 with 1 Axes>"
      ]
     },
     "metadata": {
      "needs_background": "light"
     },
     "output_type": "display_data"
    }
   ],
   "source": [
    "plt.plot(val_results['Prediction'][50:58])\n",
    "plt.plot(val_results['Data'][50:58])"
   ]
  },
  {
   "cell_type": "code",
   "execution_count": 160,
   "id": "dd19ffc1",
   "metadata": {
    "scrolled": true
   },
   "outputs": [
    {
     "data": {
      "text/html": [
       "<div>\n",
       "<style scoped>\n",
       "    .dataframe tbody tr th:only-of-type {\n",
       "        vertical-align: middle;\n",
       "    }\n",
       "\n",
       "    .dataframe tbody tr th {\n",
       "        vertical-align: top;\n",
       "    }\n",
       "\n",
       "    .dataframe thead th {\n",
       "        text-align: right;\n",
       "    }\n",
       "</style>\n",
       "<table border=\"1\" class=\"dataframe\">\n",
       "  <thead>\n",
       "    <tr style=\"text-align: right;\">\n",
       "      <th></th>\n",
       "      <th>Prediction</th>\n",
       "      <th>Data</th>\n",
       "    </tr>\n",
       "  </thead>\n",
       "  <tbody>\n",
       "    <tr>\n",
       "      <th>0</th>\n",
       "      <td>220.093719</td>\n",
       "      <td>241</td>\n",
       "    </tr>\n",
       "    <tr>\n",
       "      <th>1</th>\n",
       "      <td>220.093719</td>\n",
       "      <td>253</td>\n",
       "    </tr>\n",
       "    <tr>\n",
       "      <th>2</th>\n",
       "      <td>220.093719</td>\n",
       "      <td>251</td>\n",
       "    </tr>\n",
       "    <tr>\n",
       "      <th>3</th>\n",
       "      <td>220.093719</td>\n",
       "      <td>236</td>\n",
       "    </tr>\n",
       "    <tr>\n",
       "      <th>4</th>\n",
       "      <td>220.093719</td>\n",
       "      <td>256</td>\n",
       "    </tr>\n",
       "    <tr>\n",
       "      <th>...</th>\n",
       "      <td>...</td>\n",
       "      <td>...</td>\n",
       "    </tr>\n",
       "    <tr>\n",
       "      <th>459</th>\n",
       "      <td>137.765442</td>\n",
       "      <td>1</td>\n",
       "    </tr>\n",
       "    <tr>\n",
       "      <th>460</th>\n",
       "      <td>124.905540</td>\n",
       "      <td>1</td>\n",
       "    </tr>\n",
       "    <tr>\n",
       "      <th>461</th>\n",
       "      <td>113.496201</td>\n",
       "      <td>1</td>\n",
       "    </tr>\n",
       "    <tr>\n",
       "      <th>462</th>\n",
       "      <td>111.789276</td>\n",
       "      <td>2</td>\n",
       "    </tr>\n",
       "    <tr>\n",
       "      <th>463</th>\n",
       "      <td>127.133690</td>\n",
       "      <td>1</td>\n",
       "    </tr>\n",
       "  </tbody>\n",
       "</table>\n",
       "<p>464 rows × 2 columns</p>\n",
       "</div>"
      ],
      "text/plain": [
       "     Prediction  Data\n",
       "0    220.093719   241\n",
       "1    220.093719   253\n",
       "2    220.093719   251\n",
       "3    220.093719   236\n",
       "4    220.093719   256\n",
       "..          ...   ...\n",
       "459  137.765442     1\n",
       "460  124.905540     1\n",
       "461  113.496201     1\n",
       "462  111.789276     2\n",
       "463  127.133690     1\n",
       "\n",
       "[464 rows x 2 columns]"
      ]
     },
     "execution_count": 160,
     "metadata": {},
     "output_type": "execute_result"
    }
   ],
   "source": [
    "test_predictions = model1.predict(X_test1).flatten()\n",
    "test_results = pd.DataFrame(data={'Prediction':test_predictions, 'Data':y_test1})\n",
    "test_results"
   ]
  },
  {
   "cell_type": "markdown",
   "id": "37e89d6e",
   "metadata": {},
   "source": [
    "# Measures to judge the quality and certainty of predictions "
   ]
  },
  {
   "cell_type": "markdown",
   "id": "717a22fa",
   "metadata": {},
   "source": [
    "In order to improve the quality, Outliers can be detected and removed using different techniques for instance the IRQ (Interquartile range technique) by measuring the statistical dispersion of the data values as a measure of overall distribution and removing the values that fall outside the lower and upper bounds in the whisker diagram."
   ]
  },
  {
   "cell_type": "markdown",
   "id": "a058a816",
   "metadata": {},
   "source": [
    "To use one of the folowing methods via the scikitlearn API :\n",
    "Mean Squared Error (MSE).\n",
    "Root Mean Squared Error (RMSE).\n",
    "Mean Absolute Error (MAE)"
   ]
  },
  {
   "cell_type": "markdown",
   "id": "2a132b24",
   "metadata": {},
   "source": [
    "A QA process process can be carried out by reviewing the code by identifying identifying the baseline best practices for coding.  QA accuracy can be measured using Bias and Variance in order to check over and underfitting of the model by using accuracy and variance measurements. Moreover, if two or more models give similar acccuracy results, Precision and Recall can be used in order to give further insights of the model behavior."
   ]
  }
 ],
 "metadata": {
  "kernelspec": {
   "display_name": "Python 3",
   "language": "python",
   "name": "python3"
  },
  "language_info": {
   "codemirror_mode": {
    "name": "ipython",
    "version": 3
   },
   "file_extension": ".py",
   "mimetype": "text/x-python",
   "name": "python",
   "nbconvert_exporter": "python",
   "pygments_lexer": "ipython3",
   "version": "3.8.10"
  }
 },
 "nbformat": 4,
 "nbformat_minor": 5
}
